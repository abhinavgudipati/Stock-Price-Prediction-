{
 "cells": [
  {
   "cell_type": "code",
   "execution_count": null,
   "metadata": {},
   "outputs": [],
   "source": [
    "#Description = This program uses an artificial recurrent neural network called LTSM (Long Short Term Memory) to \n",
    "#              predict the closing stock price of a corporation (Apple.in) using the past 60 days stock price.\n",
    "#              LSTM are used for sequence prediction models.\n"
   ]
  },
  {
   "cell_type": "code",
   "execution_count": 6,
   "metadata": {},
   "outputs": [
    {
     "name": "stderr",
     "output_type": "stream",
     "text": [
      "Using TensorFlow backend.\n"
     ]
    }
   ],
   "source": [
    "import math\n",
    "import pandas as pd\n",
    "import numpy as np\n",
    "import pandas_datareader as web\n",
    "from sklearn.preprocessing import MinMaxScaler\n",
    "from keras.models import Sequential\n",
    "from keras.layers import Dense, LSTM \n",
    "import matplotlib.pyplot as plt\n",
    "plt.style.use('fivethirtyeight')"
   ]
  },
  {
   "cell_type": "code",
   "execution_count": 55,
   "metadata": {
    "scrolled": false
   },
   "outputs": [
    {
     "data": {
      "text/html": [
       "<div>\n",
       "<style scoped>\n",
       "    .dataframe tbody tr th:only-of-type {\n",
       "        vertical-align: middle;\n",
       "    }\n",
       "\n",
       "    .dataframe tbody tr th {\n",
       "        vertical-align: top;\n",
       "    }\n",
       "\n",
       "    .dataframe thead th {\n",
       "        text-align: right;\n",
       "    }\n",
       "</style>\n",
       "<table border=\"1\" class=\"dataframe\">\n",
       "  <thead>\n",
       "    <tr style=\"text-align: right;\">\n",
       "      <th></th>\n",
       "      <th>High</th>\n",
       "      <th>Low</th>\n",
       "      <th>Open</th>\n",
       "      <th>Close</th>\n",
       "      <th>Volume</th>\n",
       "      <th>Adj Close</th>\n",
       "    </tr>\n",
       "    <tr>\n",
       "      <th>Date</th>\n",
       "      <th></th>\n",
       "      <th></th>\n",
       "      <th></th>\n",
       "      <th></th>\n",
       "      <th></th>\n",
       "      <th></th>\n",
       "    </tr>\n",
       "  </thead>\n",
       "  <tbody>\n",
       "    <tr>\n",
       "      <th>2012-01-03</th>\n",
       "      <td>26.959999</td>\n",
       "      <td>26.389999</td>\n",
       "      <td>26.549999</td>\n",
       "      <td>26.770000</td>\n",
       "      <td>64731500.0</td>\n",
       "      <td>22.020796</td>\n",
       "    </tr>\n",
       "    <tr>\n",
       "      <th>2012-01-04</th>\n",
       "      <td>27.469999</td>\n",
       "      <td>26.780001</td>\n",
       "      <td>26.820000</td>\n",
       "      <td>27.400000</td>\n",
       "      <td>80516100.0</td>\n",
       "      <td>22.539021</td>\n",
       "    </tr>\n",
       "    <tr>\n",
       "      <th>2012-01-05</th>\n",
       "      <td>27.730000</td>\n",
       "      <td>27.290001</td>\n",
       "      <td>27.379999</td>\n",
       "      <td>27.680000</td>\n",
       "      <td>56081400.0</td>\n",
       "      <td>22.769344</td>\n",
       "    </tr>\n",
       "    <tr>\n",
       "      <th>2012-01-06</th>\n",
       "      <td>28.190001</td>\n",
       "      <td>27.530001</td>\n",
       "      <td>27.530001</td>\n",
       "      <td>28.110001</td>\n",
       "      <td>99455500.0</td>\n",
       "      <td>23.123066</td>\n",
       "    </tr>\n",
       "    <tr>\n",
       "      <th>2012-01-09</th>\n",
       "      <td>28.100000</td>\n",
       "      <td>27.719999</td>\n",
       "      <td>28.049999</td>\n",
       "      <td>27.740000</td>\n",
       "      <td>59706800.0</td>\n",
       "      <td>22.818701</td>\n",
       "    </tr>\n",
       "    <tr>\n",
       "      <th>...</th>\n",
       "      <td>...</td>\n",
       "      <td>...</td>\n",
       "      <td>...</td>\n",
       "      <td>...</td>\n",
       "      <td>...</td>\n",
       "      <td>...</td>\n",
       "    </tr>\n",
       "    <tr>\n",
       "      <th>2020-03-25</th>\n",
       "      <td>154.330002</td>\n",
       "      <td>144.440002</td>\n",
       "      <td>148.910004</td>\n",
       "      <td>146.919998</td>\n",
       "      <td>75638200.0</td>\n",
       "      <td>146.919998</td>\n",
       "    </tr>\n",
       "    <tr>\n",
       "      <th>2020-03-26</th>\n",
       "      <td>156.660004</td>\n",
       "      <td>148.369995</td>\n",
       "      <td>148.399994</td>\n",
       "      <td>156.110001</td>\n",
       "      <td>64568100.0</td>\n",
       "      <td>156.110001</td>\n",
       "    </tr>\n",
       "    <tr>\n",
       "      <th>2020-03-27</th>\n",
       "      <td>154.889999</td>\n",
       "      <td>149.199997</td>\n",
       "      <td>151.750000</td>\n",
       "      <td>149.699997</td>\n",
       "      <td>57042300.0</td>\n",
       "      <td>149.699997</td>\n",
       "    </tr>\n",
       "    <tr>\n",
       "      <th>2020-03-30</th>\n",
       "      <td>160.600006</td>\n",
       "      <td>150.009995</td>\n",
       "      <td>152.440002</td>\n",
       "      <td>160.229996</td>\n",
       "      <td>63420300.0</td>\n",
       "      <td>160.229996</td>\n",
       "    </tr>\n",
       "    <tr>\n",
       "      <th>2020-03-31</th>\n",
       "      <td>164.779999</td>\n",
       "      <td>156.559998</td>\n",
       "      <td>159.399994</td>\n",
       "      <td>157.710007</td>\n",
       "      <td>77927200.0</td>\n",
       "      <td>157.710007</td>\n",
       "    </tr>\n",
       "  </tbody>\n",
       "</table>\n",
       "<p>2074 rows × 6 columns</p>\n",
       "</div>"
      ],
      "text/plain": [
       "                  High         Low        Open       Close      Volume  \\\n",
       "Date                                                                     \n",
       "2012-01-03   26.959999   26.389999   26.549999   26.770000  64731500.0   \n",
       "2012-01-04   27.469999   26.780001   26.820000   27.400000  80516100.0   \n",
       "2012-01-05   27.730000   27.290001   27.379999   27.680000  56081400.0   \n",
       "2012-01-06   28.190001   27.530001   27.530001   28.110001  99455500.0   \n",
       "2012-01-09   28.100000   27.719999   28.049999   27.740000  59706800.0   \n",
       "...                ...         ...         ...         ...         ...   \n",
       "2020-03-25  154.330002  144.440002  148.910004  146.919998  75638200.0   \n",
       "2020-03-26  156.660004  148.369995  148.399994  156.110001  64568100.0   \n",
       "2020-03-27  154.889999  149.199997  151.750000  149.699997  57042300.0   \n",
       "2020-03-30  160.600006  150.009995  152.440002  160.229996  63420300.0   \n",
       "2020-03-31  164.779999  156.559998  159.399994  157.710007  77927200.0   \n",
       "\n",
       "             Adj Close  \n",
       "Date                    \n",
       "2012-01-03   22.020796  \n",
       "2012-01-04   22.539021  \n",
       "2012-01-05   22.769344  \n",
       "2012-01-06   23.123066  \n",
       "2012-01-09   22.818701  \n",
       "...                ...  \n",
       "2020-03-25  146.919998  \n",
       "2020-03-26  156.110001  \n",
       "2020-03-27  149.699997  \n",
       "2020-03-30  160.229996  \n",
       "2020-03-31  157.710007  \n",
       "\n",
       "[2074 rows x 6 columns]"
      ]
     },
     "execution_count": 55,
     "metadata": {},
     "output_type": "execute_result"
    }
   ],
   "source": [
    "#Get the stock quote \n",
    "\n",
    "df = web.DataReader('MSFT' , data_source = 'yahoo' , start = '2012-01-01', end = '2020-03-31')\n",
    "\n",
    "#show the data \n",
    "df\n"
   ]
  },
  {
   "cell_type": "code",
   "execution_count": 57,
   "metadata": {},
   "outputs": [
    {
     "data": {
      "text/plain": [
       "(2074, 6)"
      ]
     },
     "execution_count": 57,
     "metadata": {},
     "output_type": "execute_result"
    }
   ],
   "source": [
    "# Get teh number of rows and columns \n",
    "df.shape"
   ]
  },
  {
   "cell_type": "code",
   "execution_count": 58,
   "metadata": {},
   "outputs": [
    {
     "data": {
      "image/png": "[encoded data removed]",
      "text/plain": [
       "<Figure size 1152x576 with 1 Axes>"
      ]
     },
     "metadata": {},
     "output_type": "display_data"
    }
   ],
   "source": [
    "#Visualise the closing price \n",
    "\n",
    "plt.figure(figsize=(16,8))\n",
    "plt.title('Close Price History')\n",
    "plt.plot(df['Close'])\n",
    "#plt.plot(df['Close'])\n",
    "plt.xlabel('Date' , fontsize = 18)\n",
    "plt.ylabel('Close Price USD ($)' , fontsize = 18)\n",
    "plt.show()"
   ]
  },
  {
   "cell_type": "code",
   "execution_count": 59,
   "metadata": {},
   "outputs": [
    {
     "name": "stdout",
     "output_type": "stream",
     "text": [
      "1660\n"
     ]
    }
   ],
   "source": [
    "# Create a new dataframe with only the close column \n",
    "\n",
    "data = df.filter(['Close'])\n",
    "\n",
    "# convert the dataframe to a numpy array \n",
    "\n",
    "dataset = data.values\n",
    "\n",
    "#Get the number of rows to train the model on \n",
    "\n",
    "training_data_len = math.ceil(len(dataset)*.8) \n",
    "\n",
    "print(training_data_len)"
   ]
  },
  {
   "cell_type": "code",
   "execution_count": 60,
   "metadata": {},
   "outputs": [
    {
     "name": "stdout",
     "output_type": "stream",
     "text": [
      "[[0.00246411]\n",
      " [0.00634509]\n",
      " [0.00806998]\n",
      " ...\n",
      " [0.75974865]\n",
      " [0.82461651]\n",
      " [0.80909264]]\n"
     ]
    }
   ],
   "source": [
    "#Scale the data \n",
    "\n",
    "scaler = MinMaxScaler(feature_range=(0,1)) # all the values will be between 0 and 1 \n",
    "scaled_data = scaler.fit_transform(dataset)\n",
    "\n",
    "print(scaled_data)"
   ]
  },
  {
   "cell_type": "code",
   "execution_count": 61,
   "metadata": {},
   "outputs": [
    {
     "name": "stdout",
     "output_type": "stream",
     "text": [
      "[array([0.00246411, 0.00634509, 0.00806998, 0.0107189 , 0.00843959,\n",
      "       0.00905562, 0.00831638, 0.01004127, 0.01158134, 0.01164295,\n",
      "       0.01145813, 0.01078051, 0.02057536, 0.02069857, 0.01829606,\n",
      "       0.01965132, 0.01928171, 0.01761842, 0.01995934, 0.01946652,\n",
      "       0.02168422, 0.02205384, 0.02384032, 0.02359391, 0.02451796,\n",
      "       0.02642764, 0.02710528, 0.025442  , 0.02593482, 0.02390192,\n",
      "       0.02266986, 0.03030863, 0.03006221, 0.03123267, 0.03018542,\n",
      "       0.03080145, 0.03147908, 0.03067825, 0.0338816 , 0.03308076,\n",
      "       0.03646892, 0.03517527, 0.03345037, 0.0319719 , 0.03369679,\n",
      "       0.03474403, 0.03462083, 0.03492885, 0.03880982, 0.03942586,\n",
      "       0.03991867, 0.0383786 , 0.0359145 , 0.03462083, 0.03412801,\n",
      "       0.03468243, 0.03474403, 0.03831701, 0.03788579, 0.03585288])]\n",
      "[0.03542166100213601]\n",
      "\n",
      "[array([0.00246411, 0.00634509, 0.00806998, 0.0107189 , 0.00843959,\n",
      "       0.00905562, 0.00831638, 0.01004127, 0.01158134, 0.01164295,\n",
      "       0.01145813, 0.01078051, 0.02057536, 0.02069857, 0.01829606,\n",
      "       0.01965132, 0.01928171, 0.01761842, 0.01995934, 0.01946652,\n",
      "       0.02168422, 0.02205384, 0.02384032, 0.02359391, 0.02451796,\n",
      "       0.02642764, 0.02710528, 0.025442  , 0.02593482, 0.02390192,\n",
      "       0.02266986, 0.03030863, 0.03006221, 0.03123267, 0.03018542,\n",
      "       0.03080145, 0.03147908, 0.03067825, 0.0338816 , 0.03308076,\n",
      "       0.03646892, 0.03517527, 0.03345037, 0.0319719 , 0.03369679,\n",
      "       0.03474403, 0.03462083, 0.03492885, 0.03880982, 0.03942586,\n",
      "       0.03991867, 0.0383786 , 0.0359145 , 0.03462083, 0.03412801,\n",
      "       0.03468243, 0.03474403, 0.03831701, 0.03788579, 0.03585288]), array([0.00634509, 0.00806998, 0.0107189 , 0.00843959, 0.00905562,\n",
      "       0.00831638, 0.01004127, 0.01158134, 0.01164295, 0.01145813,\n",
      "       0.01078051, 0.02057536, 0.02069857, 0.01829606, 0.01965132,\n",
      "       0.01928171, 0.01761842, 0.01995934, 0.01946652, 0.02168422,\n",
      "       0.02205384, 0.02384032, 0.02359391, 0.02451796, 0.02642764,\n",
      "       0.02710528, 0.025442  , 0.02593482, 0.02390192, 0.02266986,\n",
      "       0.03030863, 0.03006221, 0.03123267, 0.03018542, 0.03080145,\n",
      "       0.03147908, 0.03067825, 0.0338816 , 0.03308076, 0.03646892,\n",
      "       0.03517527, 0.03345037, 0.0319719 , 0.03369679, 0.03474403,\n",
      "       0.03462083, 0.03492885, 0.03880982, 0.03942586, 0.03991867,\n",
      "       0.0383786 , 0.0359145 , 0.03462083, 0.03412801, 0.03468243,\n",
      "       0.03474403, 0.03831701, 0.03788579, 0.03585288, 0.03542166])]\n",
      "[0.03542166100213601, 0.0362840979700666]\n",
      "\n"
     ]
    }
   ],
   "source": [
    "#Create the training data set \n",
    "#Create the scaled training data set \n",
    " \n",
    "train_data = scaled_data[0:training_data_len, : ] # the third argument is a colon because we would want all the columns \n",
    "# Contains all the values from 0 to training_data_len.\n",
    "\n",
    "# Split the data into x_train and y_train data sets \n",
    "\n",
    "x_train = [] #independent training variables\n",
    "\n",
    "y_train = [] #dependent training variables  \n",
    "\n",
    "for i in range( 60 , len(train_data)):\n",
    "    x_train.append(train_data[i-60 :i , 0]) #data sets from i-60 to i, but not including i. \n",
    "    y_train.append(train_data[i , 0]) # only the 61st value, held at column 0 \n",
    "    \n",
    "    if i<=61:\n",
    "        print(x_train)\n",
    "        print(y_train)\n",
    "        print()\n",
    " "
   ]
  },
  {
   "cell_type": "code",
   "execution_count": 62,
   "metadata": {},
   "outputs": [],
   "source": [
    "# Convert the x_train and the y_train to numpy arrays \n",
    "\n",
    "x_train, y_train = np.array(x_train), np.array(y_train)\n"
   ]
  },
  {
   "cell_type": "code",
   "execution_count": 63,
   "metadata": {},
   "outputs": [
    {
     "data": {
      "text/plain": [
       "(1600, 60, 1)"
      ]
     },
     "execution_count": 63,
     "metadata": {},
     "output_type": "execute_result"
    }
   ],
   "source": [
    "# Reshape the x_train data \n",
    "\n",
    "x_train = np.reshape(x_train , ( x_train.shape[0] , x_train.shape[1] , 1 )) # number of features is just 1, which is the closing price. \n",
    "x_train.shape "
   ]
  },
  {
   "cell_type": "code",
   "execution_count": 64,
   "metadata": {},
   "outputs": [],
   "source": [
    "# Build the LSTM model \n",
    "model = Sequential()\n",
    "model.add(LSTM( 50 , return_sequences = True , input_shape = ( x_train.shape[1] ,  1)))\n",
    "model.add(LSTM( 50 , return_sequences = False)) # False in this case, because we are not going to be using any LSTM models for our model \n",
    "model.add(Dense(25))\n",
    "model.add(Dense(1))"
   ]
  },
  {
   "cell_type": "code",
   "execution_count": 65,
   "metadata": {},
   "outputs": [],
   "source": [
    "# Compile the model \n",
    "\n",
    "model.compile(optimizer = 'adam' , loss = 'mean_squared_error') # adam is the name of an optimizer and \n",
    "# loss is another function for the complile function \n",
    "# an optimizer is to improve upon the loss function and the loss function is to measure how well the model did on training \n"
   ]
  },
  {
   "cell_type": "code",
   "execution_count": 66,
   "metadata": {},
   "outputs": [
    {
     "name": "stdout",
     "output_type": "stream",
     "text": [
      "Epoch 1/1\n",
      "1600/1600 [==============================] - 107s 67ms/step - loss: 4.4812e-04\n"
     ]
    },
    {
     "data": {
      "text/plain": [
       "<keras.callbacks.callbacks.History at 0x109344e50>"
      ]
     },
     "execution_count": 66,
     "metadata": {},
     "output_type": "execute_result"
    }
   ],
   "source": [
    "#Train the model \n",
    "# fit is another word for Train in ML\n",
    "# batch_size is the total number of training examples present in one training set \n",
    "#epoch is defined as the number of iterations when passed forward and backward through a neural network \n",
    "model.fit(x_train , y_train , batch_size = 1 , epochs = 1 ) \n"
   ]
  },
  {
   "cell_type": "code",
   "execution_count": 73,
   "metadata": {},
   "outputs": [],
   "source": [
    "# Create a testing dataset \n",
    "# Create a new array containing scaled values frmo index 1600 to 2600\n",
    "test_data = scaled_data[training_data_len - 60: , :]\n",
    "# Create the data sets x_test and y_test \n",
    "x_test = []\n",
    "y_test = dataset[training_data_len: , :]\n",
    "\n",
    "# let us create the x_test set \n",
    "for i in range(60  , len(test_data)) :\n",
    "    # here we are going to append the past 60 values to the x_test dataset\n",
    "    x_test.append(test_data[ i - 60 : i , 0])\n",
    "    "
   ]
  },
  {
   "cell_type": "code",
   "execution_count": 74,
   "metadata": {},
   "outputs": [],
   "source": [
    "# Convert the data to numpy array \n",
    "x_test = np.array(x_test)"
   ]
  },
  {
   "cell_type": "code",
   "execution_count": 75,
   "metadata": {},
   "outputs": [],
   "source": [
    "# Reshape the data \n",
    "# we are doing this because we would want our data to be 3 dimensional instead of 2 dimensional \n",
    "# this is also done because the LSTM model expects a 3 dimensional shape \n",
    "\n",
    "x_test = np.reshape(x_test , (x_test.shape[0] , x_test.shape[1] , 1 ))\n",
    "# the third argument is 1 because we just want the output in 1 feature, which is the closing price : the 3rd argument \n",
    "# basically denotes how many features we would want to depict \n",
    "# the first argument denotes the number of samples or the number of rows  \n",
    "# the second argument determines the number of time steps or the number of columns  \n"
   ]
  },
  {
   "cell_type": "code",
   "execution_count": 76,
   "metadata": {},
   "outputs": [],
   "source": [
    "# In this cell we would want the models predicted price values for the x_test dataset \n",
    "predictions = model.predict(x_test)\n",
    "predictions = scaler.inverse_transform(predictions) # here we are basically unscaling the values \n"
   ]
  },
  {
   "cell_type": "code",
   "execution_count": 77,
   "metadata": {},
   "outputs": [
    {
     "data": {
      "text/plain": [
       "3.407237656450502"
      ]
     },
     "execution_count": 77,
     "metadata": {},
     "output_type": "execute_result"
    }
   ],
   "source": [
    "# Get root mean squared error (RMSE)\n",
    "# it is a good measure of how accurate the model predicts the response \n",
    "# it is the standard deviation of the residuals \n",
    "# lower values of RMSE indicate a better fit \n",
    "\n",
    "rmse = np.sqrt(np.mean( predictions - y_test)**2) \n",
    "\n",
    "rmse\n",
    "\n",
    "# a value of 0 for rmse is that the predictions were exact it basically means there was perfect prediction \n",
    "# for the RMSE, as compared with the testing data "
   ]
  },
  {
   "cell_type": "code",
   "execution_count": 79,
   "metadata": {},
   "outputs": [
    {
     "name": "stderr",
     "output_type": "stream",
     "text": [
      "/Users/macbookair/opt/anaconda3/lib/python3.7/site-packages/ipykernel_launcher.py:5: SettingWithCopyWarning: \n",
      "A value is trying to be set on a copy of a slice from a DataFrame.\n",
      "Try using .loc[row_indexer,col_indexer] = value instead\n",
      "\n",
      "See the caveats in the documentation: https://pandas.pydata.org/pandas-docs/stable/user_guide/indexing.html#returning-a-view-versus-a-copy\n",
      "  \"\"\"\n",
      "/Users/macbookair/opt/anaconda3/lib/python3.7/site-packages/ipykernel_launcher.py:15: MatplotlibDeprecationWarning: Unrecognized location 'top left'. Falling back on 'best'; valid locations are\n",
      "\tbest\n",
      "\tupper right\n",
      "\tupper left\n",
      "\tlower left\n",
      "\tlower right\n",
      "\tright\n",
      "\tcenter left\n",
      "\tcenter right\n",
      "\tlower center\n",
      "\tupper center\n",
      "\tcenter\n",
      "This will raise an exception in 3.3.\n",
      "  from ipykernel import kernelapp as app\n"
     ]
    },
    {
     "data": {
      "image/png": "[encoded data removed]",
      "text/plain": [
       "<Figure size 1152x576 with 1 Axes>"
      ]
     },
     "metadata": {},
     "output_type": "display_data"
    }
   ],
   "source": [
    "#Plot the data \n",
    "\n",
    "train = data[0:training_data_len]\n",
    "valid = data[training_data_len : ]\n",
    "valid['Predictions'] = predictions \n",
    "\n",
    "#Visualize the model\n",
    "\n",
    "plt.figure(figsize = (16 , 8) )\n",
    "plt.title('Model')\n",
    "plt.xlabel('Data' , fontsize = 18)\n",
    "plt.ylabel('Close Price US ($)' , fontsize = 18)\n",
    "plt.plot(train['Close'])\n",
    "plt.plot(valid[['Close' , 'Predictions']])\n",
    "plt.legend(['Train' , 'Valid' , 'Predictions'] , loc = 'top left')\n",
    "plt.show()\n",
    "\n",
    "\n",
    "\n"
   ]
  },
  {
   "cell_type": "code",
   "execution_count": 80,
   "metadata": {},
   "outputs": [
    {
     "data": {
      "text/html": [
       "<div>\n",
       "<style scoped>\n",
       "    .dataframe tbody tr th:only-of-type {\n",
       "        vertical-align: middle;\n",
       "    }\n",
       "\n",
       "    .dataframe tbody tr th {\n",
       "        vertical-align: top;\n",
       "    }\n",
       "\n",
       "    .dataframe thead th {\n",
       "        text-align: right;\n",
       "    }\n",
       "</style>\n",
       "<table border=\"1\" class=\"dataframe\">\n",
       "  <thead>\n",
       "    <tr style=\"text-align: right;\">\n",
       "      <th></th>\n",
       "      <th>Close</th>\n",
       "      <th>Predictions</th>\n",
       "    </tr>\n",
       "    <tr>\n",
       "      <th>Date</th>\n",
       "      <th></th>\n",
       "      <th></th>\n",
       "    </tr>\n",
       "  </thead>\n",
       "  <tbody>\n",
       "    <tr>\n",
       "      <th>2018-08-08</th>\n",
       "      <td>109.489998</td>\n",
       "      <td>106.207207</td>\n",
       "    </tr>\n",
       "    <tr>\n",
       "      <th>2018-08-09</th>\n",
       "      <td>109.669998</td>\n",
       "      <td>106.478889</td>\n",
       "    </tr>\n",
       "    <tr>\n",
       "      <th>2018-08-10</th>\n",
       "      <td>109.000000</td>\n",
       "      <td>106.781441</td>\n",
       "    </tr>\n",
       "    <tr>\n",
       "      <th>2018-08-13</th>\n",
       "      <td>108.209999</td>\n",
       "      <td>107.014137</td>\n",
       "    </tr>\n",
       "    <tr>\n",
       "      <th>2018-08-14</th>\n",
       "      <td>109.559998</td>\n",
       "      <td>107.121628</td>\n",
       "    </tr>\n",
       "    <tr>\n",
       "      <th>...</th>\n",
       "      <td>...</td>\n",
       "      <td>...</td>\n",
       "    </tr>\n",
       "    <tr>\n",
       "      <th>2020-03-25</th>\n",
       "      <td>146.919998</td>\n",
       "      <td>140.236572</td>\n",
       "    </tr>\n",
       "    <tr>\n",
       "      <th>2020-03-26</th>\n",
       "      <td>156.110001</td>\n",
       "      <td>140.167740</td>\n",
       "    </tr>\n",
       "    <tr>\n",
       "      <th>2020-03-27</th>\n",
       "      <td>149.699997</td>\n",
       "      <td>141.158478</td>\n",
       "    </tr>\n",
       "    <tr>\n",
       "      <th>2020-03-30</th>\n",
       "      <td>160.229996</td>\n",
       "      <td>142.048721</td>\n",
       "    </tr>\n",
       "    <tr>\n",
       "      <th>2020-03-31</th>\n",
       "      <td>157.710007</td>\n",
       "      <td>143.705795</td>\n",
       "    </tr>\n",
       "  </tbody>\n",
       "</table>\n",
       "<p>414 rows × 2 columns</p>\n",
       "</div>"
      ],
      "text/plain": [
       "                 Close  Predictions\n",
       "Date                               \n",
       "2018-08-08  109.489998   106.207207\n",
       "2018-08-09  109.669998   106.478889\n",
       "2018-08-10  109.000000   106.781441\n",
       "2018-08-13  108.209999   107.014137\n",
       "2018-08-14  109.559998   107.121628\n",
       "...                ...          ...\n",
       "2020-03-25  146.919998   140.236572\n",
       "2020-03-26  156.110001   140.167740\n",
       "2020-03-27  149.699997   141.158478\n",
       "2020-03-30  160.229996   142.048721\n",
       "2020-03-31  157.710007   143.705795\n",
       "\n",
       "[414 rows x 2 columns]"
      ]
     },
     "execution_count": 80,
     "metadata": {},
     "output_type": "execute_result"
    }
   ],
   "source": [
    "# Show the valid and the predicted prices \n",
    "valid"
   ]
  },
  {
   "cell_type": "code",
   "execution_count": 83,
   "metadata": {},
   "outputs": [
    {
     "name": "stdout",
     "output_type": "stream",
     "text": [
      "[[145.37332]]\n"
     ]
    }
   ],
   "source": [
    "# Get the quote \n",
    "microsoft_quote = web.DataReader('MSFT' , data_source = 'yahoo' , start = '2012-01-01' , end = '2020-03-31')\n",
    "# Create a new dataframe \n",
    "new_df = microsoft_quote.filter(['Close'])\n",
    "# Get the last 60 day Closing price values and convert the dataframe to an array \n",
    "last_60_days = new_df[-60 : ].values\n",
    "# Scale the data for the values to be between 0 and 1 \n",
    "last_60_days_scaled = scaler.transform(last_60_days)\n",
    "# Create an empty list\n",
    "X_test = []\n",
    "#Append the past 60 days to \n",
    "X_test.append(last_60_days_scaled)\n",
    "# Convert a X_test to numpy array \n",
    "X_test = np.array(X_test)\n",
    "#Reshape the data to be 3d\n",
    "X_test = np.reshape(X_test , (X_test.shape[0] , X_test.shape[1] , 1))\n",
    "#Get the predicted scale price \n",
    "pred_price = model.predict(X_test)\n",
    "#undo the scaling\n",
    "pred_price = scaler.inverse_transform(pred_price)\n",
    "print(pred_price)"
   ]
  },
  {
   "cell_type": "code",
   "execution_count": 86,
   "metadata": {},
   "outputs": [
    {
     "name": "stdout",
     "output_type": "stream",
     "text": [
      "Date\n",
      "2020-03-31    157.710007\n",
      "2020-04-01    152.110001\n",
      "Name: Close, dtype: float64\n"
     ]
    }
   ],
   "source": [
    "# Get the quote 2 \n",
    "microsoft_quote2 = web.DataReader('MSFT' , data_source = 'yahoo' , start = '2020-04-01' , end = '2020-04-01')\n",
    "print(microsoft_quote2['Close'])"
   ]
  },
  {
   "cell_type": "code",
   "execution_count": null,
   "metadata": {},
   "outputs": [],
   "source": []
  }
 ],
 "metadata": {
  "kernelspec": {
   "display_name": "Python 3",
   "language": "python",
   "name": "python3"
  },
  "language_info": {
   "codemirror_mode": {
    "name": "ipython",
    "version": 3
   },
   "file_extension": ".py",
   "mimetype": "text/x-python",
   "name": "python",
   "nbconvert_exporter": "python",
   "pygments_lexer": "ipython3",
   "version": "3.7.6"
  }
 },
 "nbformat": 4,
 "nbformat_minor": 4
}
